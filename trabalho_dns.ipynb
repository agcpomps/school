{
 "cells": [
  {
   "cell_type": "markdown",
   "metadata": {},
   "source": [
    "# Trabalho Pratico Configuração DNS Server\n"
   ]
  },
  {
   "cell_type": "markdown",
   "metadata": {},
   "source": [
    "### Definindo a Primary Zone em named.conf File"
   ]
  },
  {
   "cell_type": "markdown",
   "metadata": {},
   "source": [
    "### A configuração basíca assemelha-se a sintaxe abaixo\n",
    "```bash: \n",
    "zone domain-name {\n",
    "    type master;\n",
    "    file path-name;\n",
    "};\n",
    "```\n",
    "onde path-name refere-se ao ficheiro contendo a base de dados com a informação da zona em questão.\n",
    "\n",
    "exemplo:\n",
    "\n",
    "```bash:\n",
    "zone \"example.org\" {\n",
    "    type master;\n",
    "    file \"example.org.db\";\n",
    "};\n",
    "```\n",
    "o servidor automaticamente irá procurar as informaçẽs em **/var/named/example.org.db**\n",
    "\n"
   ]
  },
  {
   "cell_type": "markdown",
   "metadata": {},
   "source": [
    "## in-addr.arpa domain"
   ]
  },
  {
   "cell_type": "markdown",
   "metadata": {},
   "source": [
    "O formato de entrada para in-addr.arpa são os três octetos do endereço ip ao contrário, assumindo que o endereço da rede de example.org seja 192.168.1 teremos a configuração em named.conf assim:\n",
    "\n",
    "```bash:\n",
    "zone \"1.168.192.in-addr.arpa\" {\n",
    "    type master;\n",
    "    file \"example.org.rev\";\n",
    "};\n",
    "```\n",
    "\n",
    "**Nota:** é importante se quiseres enviar email para outros sites.\n"
   ]
  },
  {
   "cell_type": "markdown",
   "metadata": {},
   "source": [
    "## Opções adicionais"
   ]
  },
  {
   "cell_type": "markdown",
   "metadata": {},
   "source": [
    "## Definindo uma zona secundária em named.conf\n",
    "\n",
    "o formato é similar ao server master no seguinte formato:\n",
    "\n",
    "```bash:\n",
    "zone domain-name {\n",
    "    type slave;\n",
    "    masters ip-address-list;\n",
    "    file path-name;\n",
    "};\n",
    "```"
   ]
  },
  {
   "cell_type": "markdown",
   "metadata": {},
   "source": [
    "## Configurando Uma Zone Caching em name.conf\n",
    "\n",
    "A zone cache é necessaria para procurar a arvore do DNS recursivamente e outros hosts na internet.\n",
    "\n",
    "#### Definimos três zonas para o name server\n",
    "\n",
    "primeira zona\n",
    "```bash:\n",
    "zone \".\" IN {\n",
    "    type hint;\n",
    "    file \"root.hints\";\n",
    "};\n",
    "```\n",
    "segunda zona\n",
    "```bash:\n",
    "zone \"localhost\" IN {\n",
    "    type master;\n",
    "    file \"localhost.db\";\n",
    "};\n",
    "```\n",
    "terceira zona\n",
    "```bash:\n",
    "zone \"0.0.127.in-addr.arpa\" IN {\n",
    "    type master;\n",
    "    file \"127.0.0.rev\";\n",
    "};\n",
    "\n",
    "aqui **type hint** especififica que é uma entrad de caching zone"
   ]
  },
  {
   "cell_type": "markdown",
   "metadata": {},
   "source": [
    "### DNS Records Types SOA, NS, A, PTR, CNAME, MX, TXT, and RP."
   ]
  },
  {
   "cell_type": "markdown",
   "metadata": {},
   "source": [
    "#### SOA: Start of Authority\n",
    "\n",
    "O SOA record descreve as entradas do DNS\n",
    "\n",
    "```bash\n",
    "domain.name. IN SOA ns.domain.name. hostmaster.domain.name. (\n",
    "    1999080801 ; serial number\n",
    "    10800      ; refresh rate in seconds (3 hours)\n",
    "    1800       ; retry in seconds (30 minutes)\n",
    "    1209600    ; expire in seconds (2 weeks)\n",
    "    604800     ; minimum in seconds (1 week)\n",
    ")\n",
    "```"
   ]
  },
  {
   "cell_type": "markdown",
   "metadata": {},
   "source": [
    "#### NS: Name Server\n",
    "\n",
    "O NS record é usado para especificar qual name server contem os records para essa zona\n",
    "```bash:\n",
    "IN NS ns1.domain.name.\n",
    "IN NS ns2.domain.name.\n",
    "```\n"
   ]
  },
  {
   "cell_type": "markdown",
   "metadata": {},
   "source": [
    "#### A and AAAA: Address Records\n",
    "Provavelmente os mais comun dos type of record, é usado para mapear de hostname para IP address\n",
    "\n",
    "```bash:\n",
    "serverB in A 192.168.1.2\n",
    "serverB IN AAAA 2001:DB8:::2\n",
    "```"
   ]
  },
  {
   "cell_type": "markdown",
   "metadata": {},
   "source": [
    "#### MX: Mail Exchanger\n",
    "\n",
    "domainname. IN MX weight Host_name\n",
    "\n",
    "```bash:\n",
    "example.org. IN   MX  10  smtp1\n",
    "             IN   MX  10  smtp2\n",
    "\n"
   ]
  },
  {
   "cell_type": "markdown",
   "metadata": {},
   "source": [
    "#### Bibliografia\n",
    "Linux Administration A Beginners Guide, Eight Edition (Soyinka, Wale)"
   ]
  },
  {
   "cell_type": "markdown",
   "metadata": {},
   "source": [
    "# OBRIGADO"
   ]
  },
  {
   "cell_type": "markdown",
   "metadata": {},
   "source": []
  }
 ],
 "metadata": {
  "kernelspec": {
   "display_name": "Python 3.9.7 ('base')",
   "language": "python",
   "name": "python3"
  },
  "language_info": {
   "name": "python",
   "version": "3.9.7"
  },
  "orig_nbformat": 4,
  "vscode": {
   "interpreter": {
    "hash": "6322d523683bd40848da8a4902d97d600d6e2f451282551961c2f83ae6957eb8"
   }
  }
 },
 "nbformat": 4,
 "nbformat_minor": 2
}
